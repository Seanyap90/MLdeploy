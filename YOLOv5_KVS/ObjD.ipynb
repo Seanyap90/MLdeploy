{
 "cells": [
  {
   "cell_type": "code",
   "execution_count": 1,
   "id": "b368d813",
   "metadata": {},
   "outputs": [],
   "source": [
    "import os\n",
    "import tensorflow as tf\n",
    "from tensorflow.keras import backend\n",
    "from sagemaker.tensorflow import TensorFlowModel"
   ]
  },
  {
   "cell_type": "code",
   "execution_count": 2,
   "id": "a942cdd5",
   "metadata": {},
   "outputs": [],
   "source": [
    "from sagemaker.session import Session\n",
    "import sagemaker"
   ]
  },
  {
   "cell_type": "code",
   "execution_count": 3,
   "id": "ba26906a",
   "metadata": {},
   "outputs": [],
   "source": [
    "role = sagemaker.get_execution_role()"
   ]
  },
  {
   "cell_type": "code",
   "execution_count": 4,
   "id": "c16de7d0",
   "metadata": {},
   "outputs": [],
   "source": [
    "model_data = 's3://yourbucket/model.tar.gz'\n"
   ]
  },
  {
   "cell_type": "code",
   "execution_count": 5,
   "id": "bef3efd6",
   "metadata": {},
   "outputs": [],
   "source": [
    "model = TensorFlowModel(model_data=model_data, \n",
    "                        framework_version='2.8', role=role)"
   ]
  },
  {
   "cell_type": "code",
   "execution_count": 6,
   "id": "e464301e",
   "metadata": {},
   "outputs": [
    {
     "name": "stdout",
     "output_type": "stream",
     "text": [
      "---!"
     ]
    }
   ],
   "source": [
    "INSTANCE_TYPE = 'ml.m5.xlarge'\n",
    "ENDPOINT_NAME = 'yolov5l-demo'\n",
    "\n",
    "predictor = model.deploy(initial_instance_count=1, \n",
    "                         instance_type=INSTANCE_TYPE,\n",
    "                         endpoint_name=ENDPOINT_NAME)"
   ]
  },
  {
   "cell_type": "code",
   "execution_count": null,
   "id": "a404b978",
   "metadata": {},
   "outputs": [],
   "source": [
    "%matplotlib inline\n",
    "import matplotlib.pyplot as plt\n",
    "import numpy as np\n",
    "import cv2\n",
    "import json\n",
    "import boto3, botocore\n",
    "from PIL import Image\n",
    "import io"
   ]
  },
  {
   "cell_type": "code",
   "execution_count": null,
   "id": "18f44f79",
   "metadata": {},
   "outputs": [],
   "source": [
    "def prep_image(img_path):\n",
    "    img = cv2.imread(img_path)\n",
    "    img = cv2.cvtColor(img, cv2.COLOR_BGR2RGB)\n",
    "    height,width = img.shape[0], img.shape[1]\n",
    "\n",
    "    top_pad = bot_pad = height % 640 // 2\n",
    "    left_pad = right_pad = width % 640 // 2\n",
    "\n",
    "    img_padded = cv2.copyMakeBorder(img, top_pad, bot_pad, left_pad, right_pad, cv2.BORDER_CONSTANT, value=[114,114,114])\n",
    "    img_padded_and_resized = cv2.resize(img_padded,(640,640))\n",
    "    #calculate border padding\n",
    "\n",
    "    img = cv2.resize(img, (4032,3040))\n",
    "\n",
    "    plt.imshow(img_padded_and_resized)\n",
    "    return img_padded_and_resized"
   ]
  },
  {
   "cell_type": "code",
   "execution_count": null,
   "id": "30530981",
   "metadata": {},
   "outputs": [],
   "source": [
    "img = prep_image('cat_dog.jpg')"
   ]
  },
  {
   "cell_type": "code",
   "execution_count": null,
   "id": "e433249f",
   "metadata": {},
   "outputs": [],
   "source": [
    "plt.figure(figsize=(10,10))\n",
    "plt.imshow(img)\n",
    "plt.axis('off')"
   ]
  },
  {
   "cell_type": "code",
   "execution_count": null,
   "id": "82c98274",
   "metadata": {},
   "outputs": [],
   "source": [
    "config = botocore.config.Config(read_timeout=500)\n",
    "runtime = boto3.client('runtime.sagemaker', config=config)"
   ]
  },
  {
   "cell_type": "code",
   "execution_count": null,
   "id": "360c29f8",
   "metadata": {},
   "outputs": [],
   "source": [
    "data = np.array(img.astype(np.float16)/255.)\n",
    "payload = json.dumps([data.tolist()])\n",
    "\n",
    "response = runtime.invoke_endpoint(EndpointName='yolov5l-demo', ContentType='application/json', Body=payload)"
   ]
  },
  {
   "cell_type": "code",
   "execution_count": null,
   "id": "4ff95b3a",
   "metadata": {},
   "outputs": [],
   "source": [
    "result = json.loads(response['Body'].read().decode())"
   ]
  },
  {
   "cell_type": "code",
   "execution_count": null,
   "id": "0fccf82c",
   "metadata": {},
   "outputs": [],
   "source": [
    "indices = np.where(np.array(result['predictions'][0]['output_1']) > 0.5)\n",
    "xywh = np.array(result['predictions'][0]['output_0'])[indices]\n",
    "xywh[:,0] *= 640\n",
    "xywh[:,1] *= 640\n",
    "xywh[:,2] *= 640\n",
    "xywh[:,3] *= 640\n",
    "xywh = xywh.astype(int)\n",
    "\n",
    "scores = np.array(result['predictions'][0]['output_1'])[indices]\n",
    "classes = np.array(result['predictions'][0]['output_2'])[indices]"
   ]
  },
  {
   "cell_type": "code",
   "execution_count": null,
   "id": "46180d8f",
   "metadata": {},
   "outputs": [],
   "source": [
    "class_names = ['person', 'bicycle', 'car', 'motorcycle', 'airplane', 'bus', 'train', 'truck', 'boat', 'traffic light',\n",
    "        'fire hydrant', 'stop sign', 'parking meter', 'bench', 'bird', 'cat', 'dog', 'horse', 'sheep', 'cow',\n",
    "        'elephant', 'bear', 'zebra', 'giraffe', 'backpack', 'umbrella', 'handbag', 'tie', 'suitcase', 'frisbee',\n",
    "        'skis', 'snowboard', 'sports ball', 'kite', 'baseball bat', 'baseball glove', 'skateboard', 'surfboard',\n",
    "        'tennis racket', 'bottle', 'wine glass', 'cup', 'fork', 'knife', 'spoon', 'bowl', 'banana', 'apple',\n",
    "        'sandwich', 'orange', 'broccoli', 'carrot', 'hot dog', 'pizza', 'donut', 'cake', 'chair', 'couch',\n",
    "        'potted plant', 'bed', 'dining table', 'toilet', 'tv', 'laptop', 'mouse', 'remote', 'keyboard', 'cell phone',\n",
    "        'microwave', 'oven', 'toaster', 'sink', 'refrigerator', 'book', 'clock', 'vase', 'scissors', 'teddy bear',\n",
    "        'hair drier', 'toothbrush'] "
   ]
  },
  {
   "cell_type": "code",
   "execution_count": null,
   "id": "86dd48f6",
   "metadata": {},
   "outputs": [],
   "source": [
    "FONT = cv2.FONT_HERSHEY_SIMPLEX\n",
    "FONTSCALE = .6\n",
    "WHITE = (255, 255, 255)\n",
    "THICKNESS = 2\n",
    "for idx, rect in enumerate(xywh):\n",
    "    img = cv2.rectangle(img,\n",
    "              (rect[0], rect[1]-5),\n",
    "              (rect[2], rect[3]), thickness=2, color = (255,0,0))\n",
    "    \n",
    "    class_idx = int(classes[idx])\n",
    "    img = cv2.putText(img, \n",
    "                      f'{class_names[class_idx]}: {scores[idx]:0.3f}',\n",
    "                      (rect[0],rect[1]),\n",
    "                      FONT,\n",
    "                      FONTSCALE,\n",
    "                      WHITE,\n",
    "                      THICKNESS)"
   ]
  },
  {
   "cell_type": "code",
   "execution_count": null,
   "id": "34599174",
   "metadata": {},
   "outputs": [],
   "source": [
    "plt.figure(figsize=(10,10))\n",
    "plt.imshow(img)\n",
    "plt.axis('off')"
   ]
  },
  {
   "cell_type": "code",
   "execution_count": null,
   "id": "5d6b2085",
   "metadata": {},
   "outputs": [],
   "source": [
    "import boto3, botocore\n",
    "s3_client = boto3.client(\n",
    "    's3',\n",
    "    aws_access_key_id='YOUR ACCESS KEY',\n",
    "    aws_secret_access_key='YOUR SECRET KEY'\n",
    ")"
   ]
  },
  {
   "cell_type": "code",
   "execution_count": null,
   "id": "abb6efdd",
   "metadata": {},
   "outputs": [],
   "source": [
    "encode_img = cv2.imwrite('saved_image.jpg', img)\n",
    "colored_img = Image.fromarray(img).convert('RGB')\n",
    "out_img = io.BytesIO()\n",
    "colored_img.save(out_img, format='jpeg')\n",
    "out_img.seek(0)  "
   ]
  },
  {
   "cell_type": "code",
   "execution_count": null,
   "id": "fea427d7",
   "metadata": {},
   "outputs": [],
   "source": [
    "try:\n",
    "    response = s3_client.put_object(Bucket='yourbucket', Key='saved_image.jpg', Body=out_img)\n",
    "    print(\"File saved to S3:\", response)\n",
    "except Exception as e:\n",
    "    print(\"Error:\", e)"
   ]
  },
  {
   "cell_type": "code",
   "execution_count": null,
   "id": "fa546264",
   "metadata": {},
   "outputs": [],
   "source": [
    "classes = classes.astype(int)"
   ]
  },
  {
   "cell_type": "code",
   "execution_count": null,
   "id": "c79d4ce8",
   "metadata": {},
   "outputs": [],
   "source": [
    "for item in classes:\n",
    "    print(class_names[item])"
   ]
  }
 ],
 "metadata": {
  "kernelspec": {
   "display_name": "conda_tensorflow2_p310",
   "language": "python",
   "name": "conda_tensorflow2_p310"
  },
  "language_info": {
   "codemirror_mode": {
    "name": "ipython",
    "version": 3
   },
   "file_extension": ".py",
   "mimetype": "text/x-python",
   "name": "python",
   "nbconvert_exporter": "python",
   "pygments_lexer": "ipython3",
   "version": "3.10.12"
  }
 },
 "nbformat": 4,
 "nbformat_minor": 5
}
